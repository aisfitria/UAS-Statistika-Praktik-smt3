{
 "cells": [
  {
   "cell_type": "code",
   "execution_count": 1,
   "id": "04782dbd",
   "metadata": {
    "_cell_guid": "b1076dfc-b9ad-4769-8c92-a6c4dae69d19",
    "_uuid": "8f2839f25d086af736a60e9eeb907d3b93b6e0e5",
    "execution": {
     "iopub.execute_input": "2023-01-04T15:48:09.659559Z",
     "iopub.status.busy": "2023-01-04T15:48:09.659050Z",
     "iopub.status.idle": "2023-01-04T15:48:10.871853Z",
     "shell.execute_reply": "2023-01-04T15:48:10.870499Z"
    },
    "papermill": {
     "duration": 1.229384,
     "end_time": "2023-01-04T15:48:10.875357",
     "exception": false,
     "start_time": "2023-01-04T15:48:09.645973",
     "status": "completed"
    },
    "tags": []
   },
   "outputs": [
    {
     "name": "stdout",
     "output_type": "stream",
     "text": [
      "/kaggle/input/project-statistika-praktik/Jan_2019_ontime.csv\n"
     ]
    }
   ],
   "source": [
    "# This Python 3 environment comes with many helpful analytics libraries installed\n",
    "# It is defined by the kaggle/python Docker image: https://github.com/kaggle/docker-python\n",
    "# For example, here's several helpful packages to load\n",
    "\n",
    "import numpy as np # linear algebra\n",
    "import pandas as pd # data processing, CSV file I/O (e.g. pd.read_csv)\n",
    "import matplotlib.pyplot as plt # for data visualization purposes\n",
    "import seaborn as sns # for statistical data visualization\n",
    "%matplotlib inline\n",
    "\n",
    "# Input data files are available in the read-only \"../input/\" directory\n",
    "# For example, running this (by clicking run or pressing Shift+Enter) will list all files under the input directory\n",
    "\n",
    "import os\n",
    "for dirname, _, filenames in os.walk('/kaggle/input'):\n",
    "    for filename in filenames:\n",
    "        print(os.path.join(dirname, filename))\n",
    "\n",
    "# You can write up to 20GB to the current directory (/kaggle/working/) that gets preserved as output when you create a version using \"Save & Run All\" \n",
    "# You can also write temporary files to /kaggle/temp/, but they won't be saved outside of the current session"
   ]
  },
  {
   "cell_type": "code",
   "execution_count": 2,
   "id": "28c03712",
   "metadata": {
    "execution": {
     "iopub.execute_input": "2023-01-04T15:48:10.893906Z",
     "iopub.status.busy": "2023-01-04T15:48:10.893500Z",
     "iopub.status.idle": "2023-01-04T15:48:10.898571Z",
     "shell.execute_reply": "2023-01-04T15:48:10.897321Z"
    },
    "papermill": {
     "duration": 0.016878,
     "end_time": "2023-01-04T15:48:10.900955",
     "exception": false,
     "start_time": "2023-01-04T15:48:10.884077",
     "status": "completed"
    },
    "tags": []
   },
   "outputs": [],
   "source": [
    "import warnings\n",
    "\n",
    "warnings.filterwarnings('ignore')"
   ]
  },
  {
   "cell_type": "code",
   "execution_count": 3,
   "id": "f6273a5b",
   "metadata": {
    "execution": {
     "iopub.execute_input": "2023-01-04T15:48:10.918781Z",
     "iopub.status.busy": "2023-01-04T15:48:10.918397Z",
     "iopub.status.idle": "2023-01-04T15:48:13.022823Z",
     "shell.execute_reply": "2023-01-04T15:48:13.021645Z"
    },
    "papermill": {
     "duration": 2.116529,
     "end_time": "2023-01-04T15:48:13.025589",
     "exception": false,
     "start_time": "2023-01-04T15:48:10.909060",
     "status": "completed"
    },
    "tags": []
   },
   "outputs": [
    {
     "data": {
      "text/plain": [
       "(583985, 19)"
      ]
     },
     "execution_count": 3,
     "metadata": {},
     "output_type": "execute_result"
    }
   ],
   "source": [
    "#Menampilkan jumlah row dan column dari dataset\n",
    "df = pd.read_csv(\"../input/project-statistika-praktik/Jan_2019_ontime.csv\")\n",
    "df.shape"
   ]
  },
  {
   "cell_type": "code",
   "execution_count": 4,
   "id": "fcf016ed",
   "metadata": {
    "execution": {
     "iopub.execute_input": "2023-01-04T15:48:13.044258Z",
     "iopub.status.busy": "2023-01-04T15:48:13.043809Z",
     "iopub.status.idle": "2023-01-04T15:48:13.075603Z",
     "shell.execute_reply": "2023-01-04T15:48:13.074486Z"
    },
    "papermill": {
     "duration": 0.044196,
     "end_time": "2023-01-04T15:48:13.078254",
     "exception": false,
     "start_time": "2023-01-04T15:48:13.034058",
     "status": "completed"
    },
    "tags": []
   },
   "outputs": [
    {
     "data": {
      "text/html": [
       "<div>\n",
       "<style scoped>\n",
       "    .dataframe tbody tr th:only-of-type {\n",
       "        vertical-align: middle;\n",
       "    }\n",
       "\n",
       "    .dataframe tbody tr th {\n",
       "        vertical-align: top;\n",
       "    }\n",
       "\n",
       "    .dataframe thead th {\n",
       "        text-align: right;\n",
       "    }\n",
       "</style>\n",
       "<table border=\"1\" class=\"dataframe\">\n",
       "  <thead>\n",
       "    <tr style=\"text-align: right;\">\n",
       "      <th></th>\n",
       "      <th>DAY_OF_MONTH</th>\n",
       "      <th>DAY_OF_WEEK</th>\n",
       "      <th>OP_UNIQUE_CARRIER</th>\n",
       "      <th>OP_CARRIER_AIRLINE_ID</th>\n",
       "      <th>OP_CARRIER</th>\n",
       "      <th>TAIL_NUM</th>\n",
       "      <th>OP_CARRIER_FL_NUM</th>\n",
       "      <th>ORIGIN_AIRPORT_ID</th>\n",
       "      <th>ORIGIN</th>\n",
       "      <th>DEST_AIRPORT_ID</th>\n",
       "      <th>DEST</th>\n",
       "      <th>DEP_TIME</th>\n",
       "      <th>DEP_DEL15</th>\n",
       "      <th>DEP_TIME_BLK</th>\n",
       "      <th>ARR_TIME</th>\n",
       "      <th>ARR_DEL15</th>\n",
       "      <th>CANCELLED</th>\n",
       "      <th>DIVERTED</th>\n",
       "      <th>DISTANCE</th>\n",
       "    </tr>\n",
       "  </thead>\n",
       "  <tbody>\n",
       "    <tr>\n",
       "      <th>0</th>\n",
       "      <td>1</td>\n",
       "      <td>2</td>\n",
       "      <td>9E</td>\n",
       "      <td>20363</td>\n",
       "      <td>9E</td>\n",
       "      <td>N8688C</td>\n",
       "      <td>3280</td>\n",
       "      <td>11953</td>\n",
       "      <td>GNV</td>\n",
       "      <td>10397</td>\n",
       "      <td>ATL</td>\n",
       "      <td>601.0</td>\n",
       "      <td>0.0</td>\n",
       "      <td>0600-0659</td>\n",
       "      <td>722.0</td>\n",
       "      <td>0.0</td>\n",
       "      <td>0</td>\n",
       "      <td>0</td>\n",
       "      <td>300</td>\n",
       "    </tr>\n",
       "    <tr>\n",
       "      <th>1</th>\n",
       "      <td>1</td>\n",
       "      <td>2</td>\n",
       "      <td>9E</td>\n",
       "      <td>20363</td>\n",
       "      <td>9E</td>\n",
       "      <td>N348PQ</td>\n",
       "      <td>3281</td>\n",
       "      <td>13487</td>\n",
       "      <td>MSP</td>\n",
       "      <td>11193</td>\n",
       "      <td>CVG</td>\n",
       "      <td>1359.0</td>\n",
       "      <td>0.0</td>\n",
       "      <td>1400-1459</td>\n",
       "      <td>1633.0</td>\n",
       "      <td>0.0</td>\n",
       "      <td>0</td>\n",
       "      <td>0</td>\n",
       "      <td>596</td>\n",
       "    </tr>\n",
       "    <tr>\n",
       "      <th>2</th>\n",
       "      <td>1</td>\n",
       "      <td>2</td>\n",
       "      <td>9E</td>\n",
       "      <td>20363</td>\n",
       "      <td>9E</td>\n",
       "      <td>N8896A</td>\n",
       "      <td>3282</td>\n",
       "      <td>11433</td>\n",
       "      <td>DTW</td>\n",
       "      <td>11193</td>\n",
       "      <td>CVG</td>\n",
       "      <td>1215.0</td>\n",
       "      <td>0.0</td>\n",
       "      <td>1200-1259</td>\n",
       "      <td>1329.0</td>\n",
       "      <td>0.0</td>\n",
       "      <td>0</td>\n",
       "      <td>0</td>\n",
       "      <td>229</td>\n",
       "    </tr>\n",
       "    <tr>\n",
       "      <th>3</th>\n",
       "      <td>1</td>\n",
       "      <td>2</td>\n",
       "      <td>9E</td>\n",
       "      <td>20363</td>\n",
       "      <td>9E</td>\n",
       "      <td>N8886A</td>\n",
       "      <td>3283</td>\n",
       "      <td>15249</td>\n",
       "      <td>TLH</td>\n",
       "      <td>10397</td>\n",
       "      <td>ATL</td>\n",
       "      <td>1521.0</td>\n",
       "      <td>0.0</td>\n",
       "      <td>1500-1559</td>\n",
       "      <td>1625.0</td>\n",
       "      <td>0.0</td>\n",
       "      <td>0</td>\n",
       "      <td>0</td>\n",
       "      <td>223</td>\n",
       "    </tr>\n",
       "    <tr>\n",
       "      <th>4</th>\n",
       "      <td>1</td>\n",
       "      <td>2</td>\n",
       "      <td>9E</td>\n",
       "      <td>20363</td>\n",
       "      <td>9E</td>\n",
       "      <td>N8974C</td>\n",
       "      <td>3284</td>\n",
       "      <td>10397</td>\n",
       "      <td>ATL</td>\n",
       "      <td>11778</td>\n",
       "      <td>FSM</td>\n",
       "      <td>1847.0</td>\n",
       "      <td>0.0</td>\n",
       "      <td>1900-1959</td>\n",
       "      <td>1940.0</td>\n",
       "      <td>0.0</td>\n",
       "      <td>0</td>\n",
       "      <td>0</td>\n",
       "      <td>579</td>\n",
       "    </tr>\n",
       "  </tbody>\n",
       "</table>\n",
       "</div>"
      ],
      "text/plain": [
       "   DAY_OF_MONTH  DAY_OF_WEEK OP_UNIQUE_CARRIER  OP_CARRIER_AIRLINE_ID  \\\n",
       "0             1            2                9E                  20363   \n",
       "1             1            2                9E                  20363   \n",
       "2             1            2                9E                  20363   \n",
       "3             1            2                9E                  20363   \n",
       "4             1            2                9E                  20363   \n",
       "\n",
       "  OP_CARRIER TAIL_NUM  OP_CARRIER_FL_NUM  ORIGIN_AIRPORT_ID ORIGIN  \\\n",
       "0         9E   N8688C               3280              11953    GNV   \n",
       "1         9E   N348PQ               3281              13487    MSP   \n",
       "2         9E   N8896A               3282              11433    DTW   \n",
       "3         9E   N8886A               3283              15249    TLH   \n",
       "4         9E   N8974C               3284              10397    ATL   \n",
       "\n",
       "   DEST_AIRPORT_ID DEST  DEP_TIME  DEP_DEL15 DEP_TIME_BLK  ARR_TIME  \\\n",
       "0            10397  ATL     601.0        0.0    0600-0659     722.0   \n",
       "1            11193  CVG    1359.0        0.0    1400-1459    1633.0   \n",
       "2            11193  CVG    1215.0        0.0    1200-1259    1329.0   \n",
       "3            10397  ATL    1521.0        0.0    1500-1559    1625.0   \n",
       "4            11778  FSM    1847.0        0.0    1900-1959    1940.0   \n",
       "\n",
       "   ARR_DEL15  CANCELLED  DIVERTED  DISTANCE  \n",
       "0        0.0          0         0       300  \n",
       "1        0.0          0         0       596  \n",
       "2        0.0          0         0       229  \n",
       "3        0.0          0         0       223  \n",
       "4        0.0          0         0       579  "
      ]
     },
     "execution_count": 4,
     "metadata": {},
     "output_type": "execute_result"
    }
   ],
   "source": [
    "#Menampilkan tabel row dan column dari dataset\n",
    "df.head()"
   ]
  },
  {
   "cell_type": "code",
   "execution_count": 5,
   "id": "801aca6f",
   "metadata": {
    "execution": {
     "iopub.execute_input": "2023-01-04T15:48:13.097312Z",
     "iopub.status.busy": "2023-01-04T15:48:13.096896Z",
     "iopub.status.idle": "2023-01-04T15:48:13.283992Z",
     "shell.execute_reply": "2023-01-04T15:48:13.282712Z"
    },
    "papermill": {
     "duration": 0.200159,
     "end_time": "2023-01-04T15:48:13.287239",
     "exception": false,
     "start_time": "2023-01-04T15:48:13.087080",
     "status": "completed"
    },
    "tags": []
   },
   "outputs": [
    {
     "name": "stdout",
     "output_type": "stream",
     "text": [
      "<class 'pandas.core.frame.DataFrame'>\n",
      "RangeIndex: 583985 entries, 0 to 583984\n",
      "Data columns (total 19 columns):\n",
      " #   Column                 Non-Null Count   Dtype  \n",
      "---  ------                 --------------   -----  \n",
      " 0   DAY_OF_MONTH           583985 non-null  int64  \n",
      " 1   DAY_OF_WEEK            583985 non-null  int64  \n",
      " 2   OP_UNIQUE_CARRIER      583985 non-null  object \n",
      " 3   OP_CARRIER_AIRLINE_ID  583985 non-null  int64  \n",
      " 4   OP_CARRIER             583985 non-null  object \n",
      " 5   TAIL_NUM               581442 non-null  object \n",
      " 6   OP_CARRIER_FL_NUM      583985 non-null  int64  \n",
      " 7   ORIGIN_AIRPORT_ID      583985 non-null  int64  \n",
      " 8   ORIGIN                 583985 non-null  object \n",
      " 9   DEST_AIRPORT_ID        583985 non-null  int64  \n",
      " 10  DEST                   583985 non-null  object \n",
      " 11  DEP_TIME               567633 non-null  float64\n",
      " 12  DEP_DEL15              567630 non-null  float64\n",
      " 13  DEP_TIME_BLK           583985 non-null  object \n",
      " 14  ARR_TIME               566924 non-null  float64\n",
      " 15  ARR_DEL15              565963 non-null  float64\n",
      " 16  CANCELLED              583985 non-null  int64  \n",
      " 17  DIVERTED               583985 non-null  int64  \n",
      " 18  DISTANCE               583985 non-null  int64  \n",
      "dtypes: float64(4), int64(9), object(6)\n",
      "memory usage: 84.7+ MB\n"
     ]
    }
   ],
   "source": [
    "#Menampilan informasi terkain data set (total column, null column, type, memory)\n",
    "df.info()"
   ]
  },
  {
   "cell_type": "code",
   "execution_count": 6,
   "id": "15a37425",
   "metadata": {
    "execution": {
     "iopub.execute_input": "2023-01-04T15:48:13.309374Z",
     "iopub.status.busy": "2023-01-04T15:48:13.308920Z",
     "iopub.status.idle": "2023-01-04T15:48:13.324320Z",
     "shell.execute_reply": "2023-01-04T15:48:13.323152Z"
    },
    "papermill": {
     "duration": 0.028281,
     "end_time": "2023-01-04T15:48:13.327072",
     "exception": false,
     "start_time": "2023-01-04T15:48:13.298791",
     "status": "completed"
    },
    "tags": []
   },
   "outputs": [],
   "source": [
    "#Reduce/ mengecilkan penggunaan memory untuk dataset\n",
    "def reduce_mem_usage(df, verbose=True):\n",
    "    numerics = ['int16', 'int32', 'int64', 'float16', 'float32', 'float64']\n",
    "    start_mem = df.memory_usage().sum() / 1024**2\n",
    "    for col in df.columns:\n",
    "        col_type = df[col].dtypes\n",
    "        if col_type in numerics:\n",
    "            c_min = df[col].min()\n",
    "            c_max = df[col].max()\n",
    "            if str(col_type)[:3] == 'int':\n",
    "                if c_min > np.iinfo(np.int8).min and c_max < np.iinfo(np.int8).max:\n",
    "                    df[col] = df[col].astype(np.int8)\n",
    "                elif c_min > np.iinfo(np.int16).min and c_max < np.iinfo(np.int16).max:\n",
    "                    df[col] = df[col].astype(np.int16)\n",
    "                elif c_min > np.iinfo(np.int32).min and c_max < np.iinfo(np.int32).max:\n",
    "                    df[col] = df[col].astype(np.int32)\n",
    "                elif c_min > np.iinfo(np.int64).min and c_max < np.iinfo(np.int64).max:\n",
    "                    df[col] = df[col].astype(np.int64)\n",
    "            else:\n",
    "                if c_min > np.finfo(np.float16).min and c_max < np.finfo(np.float16).max:\n",
    "                    df[col] = df[col].astype(np.float16)\n",
    "                elif c_min > np.finfo(np.float32).min and c_max < np.finfo(np.float32).max:\n",
    "                    df[col] = df[col].astype(np.float32)\n",
    "                else:\n",
    "                    df[col] = df[col].astype(np.float64)\n",
    "\n",
    "    end_mem = df.memory_usage().sum() / 1024**2\n",
    "    print('Memory usage after optimization is: {:.2f} MB'.format(end_mem))\n",
    "    print('Decreased by {:.1f}%'.format(100 * (start_mem - end_mem) / start_mem))\n",
    "\n",
    "    return df"
   ]
  },
  {
   "cell_type": "code",
   "execution_count": 7,
   "id": "148db678",
   "metadata": {
    "execution": {
     "iopub.execute_input": "2023-01-04T15:48:13.346485Z",
     "iopub.status.busy": "2023-01-04T15:48:13.346039Z",
     "iopub.status.idle": "2023-01-04T15:48:13.480176Z",
     "shell.execute_reply": "2023-01-04T15:48:13.478710Z"
    },
    "papermill": {
     "duration": 0.147629,
     "end_time": "2023-01-04T15:48:13.483552",
     "exception": false,
     "start_time": "2023-01-04T15:48:13.335923",
     "status": "completed"
    },
    "tags": []
   },
   "outputs": [
    {
     "name": "stdout",
     "output_type": "stream",
     "text": [
      "Memory usage after optimization is: 38.99 MB\n",
      "Decreased by 53.9%\n"
     ]
    }
   ],
   "source": [
    "#Reduce data set\n",
    "df = reduce_mem_usage(df)"
   ]
  },
  {
   "cell_type": "code",
   "execution_count": 8,
   "id": "d763deda",
   "metadata": {
    "execution": {
     "iopub.execute_input": "2023-01-04T15:48:13.502968Z",
     "iopub.status.busy": "2023-01-04T15:48:13.502547Z",
     "iopub.status.idle": "2023-01-04T15:48:13.684152Z",
     "shell.execute_reply": "2023-01-04T15:48:13.682178Z"
    },
    "papermill": {
     "duration": 0.19405,
     "end_time": "2023-01-04T15:48:13.686721",
     "exception": false,
     "start_time": "2023-01-04T15:48:13.492671",
     "status": "completed"
    },
    "tags": []
   },
   "outputs": [
    {
     "name": "stdout",
     "output_type": "stream",
     "text": [
      "<class 'pandas.core.frame.DataFrame'>\n",
      "RangeIndex: 583985 entries, 0 to 583984\n",
      "Data columns (total 19 columns):\n",
      " #   Column                 Non-Null Count   Dtype  \n",
      "---  ------                 --------------   -----  \n",
      " 0   DAY_OF_MONTH           583985 non-null  int8   \n",
      " 1   DAY_OF_WEEK            583985 non-null  int8   \n",
      " 2   OP_UNIQUE_CARRIER      583985 non-null  object \n",
      " 3   OP_CARRIER_AIRLINE_ID  583985 non-null  int16  \n",
      " 4   OP_CARRIER             583985 non-null  object \n",
      " 5   TAIL_NUM               581442 non-null  object \n",
      " 6   OP_CARRIER_FL_NUM      583985 non-null  int16  \n",
      " 7   ORIGIN_AIRPORT_ID      583985 non-null  int16  \n",
      " 8   ORIGIN                 583985 non-null  object \n",
      " 9   DEST_AIRPORT_ID        583985 non-null  int16  \n",
      " 10  DEST                   583985 non-null  object \n",
      " 11  DEP_TIME               567633 non-null  float16\n",
      " 12  DEP_DEL15              567630 non-null  float16\n",
      " 13  DEP_TIME_BLK           583985 non-null  object \n",
      " 14  ARR_TIME               566924 non-null  float16\n",
      " 15  ARR_DEL15              565963 non-null  float16\n",
      " 16  CANCELLED              583985 non-null  int8   \n",
      " 17  DIVERTED               583985 non-null  int8   \n",
      " 18  DISTANCE               583985 non-null  int16  \n",
      "dtypes: float16(4), int16(5), int8(4), object(6)\n",
      "memory usage: 39.0+ MB\n"
     ]
    }
   ],
   "source": [
    "#Menampilan informasi terkain data set (total column, null column, type, memory) - setelah di reduce\n",
    "df.info()"
   ]
  },
  {
   "cell_type": "code",
   "execution_count": 9,
   "id": "0f217599",
   "metadata": {
    "execution": {
     "iopub.execute_input": "2023-01-04T15:48:13.706413Z",
     "iopub.status.busy": "2023-01-04T15:48:13.706015Z",
     "iopub.status.idle": "2023-01-04T15:48:13.712938Z",
     "shell.execute_reply": "2023-01-04T15:48:13.711652Z"
    },
    "papermill": {
     "duration": 0.019982,
     "end_time": "2023-01-04T15:48:13.715664",
     "exception": false,
     "start_time": "2023-01-04T15:48:13.695682",
     "status": "completed"
    },
    "tags": []
   },
   "outputs": [
    {
     "name": "stdout",
     "output_type": "stream",
     "text": [
      "There are 6 categorical variables\n",
      "\n",
      "The categorical variables are :\n",
      "\n",
      " ['OP_UNIQUE_CARRIER', 'OP_CARRIER', 'TAIL_NUM', 'ORIGIN', 'DEST', 'DEP_TIME_BLK']\n"
     ]
    }
   ],
   "source": [
    "#Menampilkan type data categorical\n",
    "categorical = [var for var in df.columns if df[var].dtype=='O']\n",
    "\n",
    "print('There are {} categorical variables\\n'.format(len(categorical)))\n",
    "\n",
    "print('The categorical variables are :\\n\\n', categorical)"
   ]
  },
  {
   "cell_type": "code",
   "execution_count": 10,
   "id": "d47f9167",
   "metadata": {
    "execution": {
     "iopub.execute_input": "2023-01-04T15:48:13.734981Z",
     "iopub.status.busy": "2023-01-04T15:48:13.734576Z",
     "iopub.status.idle": "2023-01-04T15:48:13.938687Z",
     "shell.execute_reply": "2023-01-04T15:48:13.937346Z"
    },
    "papermill": {
     "duration": 0.21709,
     "end_time": "2023-01-04T15:48:13.941607",
     "exception": false,
     "start_time": "2023-01-04T15:48:13.724517",
     "status": "completed"
    },
    "tags": []
   },
   "outputs": [
    {
     "data": {
      "text/plain": [
       "OP_UNIQUE_CARRIER       0\n",
       "OP_CARRIER              0\n",
       "TAIL_NUM             2543\n",
       "ORIGIN                  0\n",
       "DEST                    0\n",
       "DEP_TIME_BLK            0\n",
       "dtype: int64"
      ]
     },
     "execution_count": 10,
     "metadata": {},
     "output_type": "execute_result"
    }
   ],
   "source": [
    "#Cek type data categorical yang bernilai null\n",
    "df[categorical].isnull().sum()"
   ]
  },
  {
   "cell_type": "code",
   "execution_count": 11,
   "id": "7f137b78",
   "metadata": {
    "execution": {
     "iopub.execute_input": "2023-01-04T15:48:13.961964Z",
     "iopub.status.busy": "2023-01-04T15:48:13.961495Z",
     "iopub.status.idle": "2023-01-04T15:48:13.969153Z",
     "shell.execute_reply": "2023-01-04T15:48:13.967966Z"
    },
    "papermill": {
     "duration": 0.020929,
     "end_time": "2023-01-04T15:48:13.972059",
     "exception": false,
     "start_time": "2023-01-04T15:48:13.951130",
     "status": "completed"
    },
    "tags": []
   },
   "outputs": [
    {
     "name": "stdout",
     "output_type": "stream",
     "text": [
      "There are 13 numerical variables\n",
      "\n",
      "The numerical variables are : ['DAY_OF_MONTH', 'DAY_OF_WEEK', 'OP_CARRIER_AIRLINE_ID', 'OP_CARRIER_FL_NUM', 'ORIGIN_AIRPORT_ID', 'DEST_AIRPORT_ID', 'DEP_TIME', 'DEP_DEL15', 'ARR_TIME', 'ARR_DEL15', 'CANCELLED', 'DIVERTED', 'DISTANCE']\n"
     ]
    }
   ],
   "source": [
    "#Menampilkan type data numerical\n",
    "numerical = [var for var in df.columns if df[var].dtype!='O']\n",
    "\n",
    "print('There are {} numerical variables\\n'.format(len(numerical)))\n",
    "\n",
    "print('The numerical variables are :', numerical)"
   ]
  },
  {
   "cell_type": "code",
   "execution_count": 12,
   "id": "37518512",
   "metadata": {
    "execution": {
     "iopub.execute_input": "2023-01-04T15:48:13.992068Z",
     "iopub.status.busy": "2023-01-04T15:48:13.991654Z",
     "iopub.status.idle": "2023-01-04T15:48:14.027104Z",
     "shell.execute_reply": "2023-01-04T15:48:14.026179Z"
    },
    "papermill": {
     "duration": 0.048136,
     "end_time": "2023-01-04T15:48:14.029237",
     "exception": false,
     "start_time": "2023-01-04T15:48:13.981101",
     "status": "completed"
    },
    "tags": []
   },
   "outputs": [
    {
     "data": {
      "text/plain": [
       "DAY_OF_MONTH                 0\n",
       "DAY_OF_WEEK                  0\n",
       "OP_CARRIER_AIRLINE_ID        0\n",
       "OP_CARRIER_FL_NUM            0\n",
       "ORIGIN_AIRPORT_ID            0\n",
       "DEST_AIRPORT_ID              0\n",
       "DEP_TIME                 16352\n",
       "DEP_DEL15                16355\n",
       "ARR_TIME                 17061\n",
       "ARR_DEL15                18022\n",
       "CANCELLED                    0\n",
       "DIVERTED                     0\n",
       "DISTANCE                     0\n",
       "dtype: int64"
      ]
     },
     "execution_count": 12,
     "metadata": {},
     "output_type": "execute_result"
    }
   ],
   "source": [
    "#Cek type data categorical yang bernilai null\n",
    "df[numerical].isnull().sum()"
   ]
  },
  {
   "cell_type": "code",
   "execution_count": 13,
   "id": "729cb178",
   "metadata": {
    "execution": {
     "iopub.execute_input": "2023-01-04T15:48:14.049674Z",
     "iopub.status.busy": "2023-01-04T15:48:14.048961Z",
     "iopub.status.idle": "2023-01-04T15:48:14.077327Z",
     "shell.execute_reply": "2023-01-04T15:48:14.075936Z"
    },
    "papermill": {
     "duration": 0.041392,
     "end_time": "2023-01-04T15:48:14.079788",
     "exception": false,
     "start_time": "2023-01-04T15:48:14.038396",
     "status": "completed"
    },
    "tags": []
   },
   "outputs": [
    {
     "data": {
      "text/html": [
       "<div>\n",
       "<style scoped>\n",
       "    .dataframe tbody tr th:only-of-type {\n",
       "        vertical-align: middle;\n",
       "    }\n",
       "\n",
       "    .dataframe tbody tr th {\n",
       "        vertical-align: top;\n",
       "    }\n",
       "\n",
       "    .dataframe thead th {\n",
       "        text-align: right;\n",
       "    }\n",
       "</style>\n",
       "<table border=\"1\" class=\"dataframe\">\n",
       "  <thead>\n",
       "    <tr style=\"text-align: right;\">\n",
       "      <th></th>\n",
       "      <th>ORIGIN</th>\n",
       "      <th>DEST</th>\n",
       "      <th>DEP_TIME</th>\n",
       "      <th>ARR_TIME</th>\n",
       "      <th>ARR_DEL15</th>\n",
       "    </tr>\n",
       "  </thead>\n",
       "  <tbody>\n",
       "    <tr>\n",
       "      <th>0</th>\n",
       "      <td>GNV</td>\n",
       "      <td>ATL</td>\n",
       "      <td>601.0</td>\n",
       "      <td>722.0</td>\n",
       "      <td>0.0</td>\n",
       "    </tr>\n",
       "    <tr>\n",
       "      <th>1</th>\n",
       "      <td>MSP</td>\n",
       "      <td>CVG</td>\n",
       "      <td>1359.0</td>\n",
       "      <td>1633.0</td>\n",
       "      <td>0.0</td>\n",
       "    </tr>\n",
       "    <tr>\n",
       "      <th>2</th>\n",
       "      <td>DTW</td>\n",
       "      <td>CVG</td>\n",
       "      <td>1215.0</td>\n",
       "      <td>1329.0</td>\n",
       "      <td>0.0</td>\n",
       "    </tr>\n",
       "    <tr>\n",
       "      <th>3</th>\n",
       "      <td>TLH</td>\n",
       "      <td>ATL</td>\n",
       "      <td>1521.0</td>\n",
       "      <td>1625.0</td>\n",
       "      <td>0.0</td>\n",
       "    </tr>\n",
       "    <tr>\n",
       "      <th>4</th>\n",
       "      <td>ATL</td>\n",
       "      <td>FSM</td>\n",
       "      <td>1847.0</td>\n",
       "      <td>1940.0</td>\n",
       "      <td>0.0</td>\n",
       "    </tr>\n",
       "  </tbody>\n",
       "</table>\n",
       "</div>"
      ],
      "text/plain": [
       "  ORIGIN DEST  DEP_TIME  ARR_TIME  ARR_DEL15\n",
       "0    GNV  ATL     601.0     722.0        0.0\n",
       "1    MSP  CVG    1359.0    1633.0        0.0\n",
       "2    DTW  CVG    1215.0    1329.0        0.0\n",
       "3    TLH  ATL    1521.0    1625.0        0.0\n",
       "4    ATL  FSM    1847.0    1940.0        0.0"
      ]
     },
     "execution_count": 13,
     "metadata": {},
     "output_type": "execute_result"
    }
   ],
   "source": [
    "#Menghapus column yang tidak digunakan\n",
    "df = df.drop(columns=['DAY_OF_MONTH','DAY_OF_WEEK','OP_UNIQUE_CARRIER',\n",
    "                           'OP_CARRIER_AIRLINE_ID','OP_CARRIER','TAIL_NUM',\n",
    "                           'OP_CARRIER_FL_NUM','ORIGIN_AIRPORT_ID','DEST_AIRPORT_ID',  'DEP_DEL15',\n",
    "                           'DEP_TIME_BLK', 'CANCELLED','DIVERTED','DISTANCE'])\n",
    "data = df.head(350)\n",
    "data.head()"
   ]
  },
  {
   "cell_type": "code",
   "execution_count": 14,
   "id": "119da01c",
   "metadata": {
    "execution": {
     "iopub.execute_input": "2023-01-04T15:48:14.100660Z",
     "iopub.status.busy": "2023-01-04T15:48:14.100268Z",
     "iopub.status.idle": "2023-01-04T15:48:14.107914Z",
     "shell.execute_reply": "2023-01-04T15:48:14.107027Z"
    },
    "papermill": {
     "duration": 0.020752,
     "end_time": "2023-01-04T15:48:14.110140",
     "exception": false,
     "start_time": "2023-01-04T15:48:14.089388",
     "status": "completed"
    },
    "tags": []
   },
   "outputs": [],
   "source": [
    "# Membuat variabel untuk mengakses data pada keseluruhan column tetapi dengan rows hanya sampai 4\n",
    "X = data.iloc[:, :4].values\n",
    "Y = data.iloc[:, 4].values"
   ]
  },
  {
   "cell_type": "code",
   "execution_count": 15,
   "id": "bbddeb6b",
   "metadata": {
    "execution": {
     "iopub.execute_input": "2023-01-04T15:48:14.131464Z",
     "iopub.status.busy": "2023-01-04T15:48:14.130234Z",
     "iopub.status.idle": "2023-01-04T15:48:14.280064Z",
     "shell.execute_reply": "2023-01-04T15:48:14.278688Z"
    },
    "papermill": {
     "duration": 0.16399,
     "end_time": "2023-01-04T15:48:14.283492",
     "exception": false,
     "start_time": "2023-01-04T15:48:14.119502",
     "status": "completed"
    },
    "tags": []
   },
   "outputs": [],
   "source": [
    "# Mengubah nilai nilai yang bersifat categorical menjadi integer\n",
    "from sklearn.preprocessing import LabelEncoder\n",
    "le = LabelEncoder()\n",
    "X[:, 0] = le.fit_transform(X[:, 0])\n",
    "X[:, 1] = le.fit_transform(X[:, 1])"
   ]
  },
  {
   "cell_type": "code",
   "execution_count": 16,
   "id": "fe902dcb",
   "metadata": {
    "execution": {
     "iopub.execute_input": "2023-01-04T15:48:14.308356Z",
     "iopub.status.busy": "2023-01-04T15:48:14.307840Z",
     "iopub.status.idle": "2023-01-04T15:48:14.314617Z",
     "shell.execute_reply": "2023-01-04T15:48:14.313261Z"
    },
    "papermill": {
     "duration": 0.020819,
     "end_time": "2023-01-04T15:48:14.317551",
     "exception": false,
     "start_time": "2023-01-04T15:48:14.296732",
     "status": "completed"
    },
    "tags": []
   },
   "outputs": [
    {
     "name": "stdout",
     "output_type": "stream",
     "text": [
      "[[38 4 601.0 722.0]\n",
      " [68 23 1359.0 1633.0]\n",
      " [30 23 1215.0 1329.0]\n",
      " ...\n",
      " [42 27 2056.0 854.0]\n",
      " [13 27 1132.0 1409.0]\n",
      " [74 11 1326.0 1616.0]]\n"
     ]
    }
   ],
   "source": [
    "#Menampilkan data yang telah diubah dan dipilih ditampilkan\n",
    "print(X)"
   ]
  },
  {
   "cell_type": "code",
   "execution_count": 17,
   "id": "dcbf5afa",
   "metadata": {
    "execution": {
     "iopub.execute_input": "2023-01-04T15:48:14.338431Z",
     "iopub.status.busy": "2023-01-04T15:48:14.338011Z",
     "iopub.status.idle": "2023-01-04T15:48:14.406916Z",
     "shell.execute_reply": "2023-01-04T15:48:14.405349Z"
    },
    "papermill": {
     "duration": 0.083814,
     "end_time": "2023-01-04T15:48:14.410992",
     "exception": false,
     "start_time": "2023-01-04T15:48:14.327178",
     "status": "completed"
    },
    "tags": []
   },
   "outputs": [
    {
     "name": "stdout",
     "output_type": "stream",
     "text": [
      "[[49 4 1553.0 1832.0]\n",
      " [49 4 727.0 1003.0]\n",
      " [20 63 917.0 1045.0]\n",
      " [4 8 854.0 854.0]\n",
      " [77 74 552.0 725.0]\n",
      " [17 4 1415.0 1554.0]\n",
      " [51 14 1609.0 1725.0]\n",
      " [23 4 1202.0 1250.0]\n",
      " [25 68 651.0 743.0]\n",
      " [20 68 1300.0 1435.0]\n",
      " [74 54 1558.0 1848.0]\n",
      " [68 67 1325.0 1418.0]\n",
      " [28 91 1838.0 2010.0]\n",
      " [99 4 1330.0 1422.0]\n",
      " [4 38 2220.0 2324.0]\n",
      " [4 21 1054.0 1203.0]\n",
      " [80 11 919.0 1045.0]\n",
      " [72 58 2332.0 725.0]\n",
      " [68 51 956.0 1231.0]\n",
      " [64 10 1527.0 1640.0]\n",
      " [89 27 803.0 1347.0]\n",
      " [77 11 1902.0 2011.0]\n",
      " [4 2 2230.0 2324.0]\n",
      " [51 81 2152.0 2260.0]\n",
      " [4 42 1011.0 1112.0]\n",
      " [35 4 1332.0 1532.0]\n",
      " [51 83 1450.0 1637.0]\n",
      " [68 43 1936.0 2048.0]\n",
      " [33 29 824.0 1035.0]\n",
      " [24 68 1325.0 1417.0]\n",
      " [4 101 1742.0 1832.0]\n",
      " [14 4 1049.0 1150.0]\n",
      " [79 4 1353.0 1651.0]\n",
      " [4 90 949.0 1042.0]\n",
      " [24 68 817.0 900.0]\n",
      " [19 68 1051.0 1205.0]\n",
      " [4 50 2116.0 2230.0]\n",
      " [43 68 1605.0 1851.0]\n",
      " [4 6 912.0 1005.0]\n",
      " [59 4 1523.0 1748.0]\n",
      " [20 42 2104.0 2146.0]\n",
      " [4 95 1615.0 1711.0]\n",
      " [51 94 953.0 1129.0]\n",
      " [20 66 2114.0 2312.0]\n",
      " [77 11 2122.0 2232.0]\n",
      " [32 4 605.0 826.0]\n",
      " [4 70 1030.0 1132.0]\n",
      " [58 18 954.0 1154.0]\n",
      " [19 54 1556.0 1725.0]\n",
      " [30 31 822.0 932.0]\n",
      " [4 95 937.0 1036.0]\n",
      " [74 11 1326.0 1616.0]\n",
      " [42 74 1838.0 658.0]\n",
      " [58 23 1551.0 1824.0]\n",
      " [4 65 1021.0 1014.0]\n",
      " [30 19 1224.0 1311.0]\n",
      " [73 68 1456.0 1553.0]\n",
      " [20 51 1637.0 1812.0]\n",
      " [61 4 1156.0 1359.0]\n",
      " [4 15 907.0 958.0]\n",
      " [20 26 928.0 1038.0]\n",
      " [52 58 1339.0 2140.0]\n",
      " [4 44 1617.0 1621.0]\n",
      " [28 93 900.0 1027.0]\n",
      " [68 41 1252.0 1517.0]\n",
      " [68 23 1100.0 1339.0]\n",
      " [4 95 1341.0 1445.0]\n",
      " [4 98 829.0 931.0]\n",
      " [68 85 1743.0 2056.0]\n",
      " [57 4 553.0 827.0]]\n"
     ]
    }
   ],
   "source": [
    "#Membagi data menjadi bagian testing dan training\n",
    "from sklearn.model_selection import train_test_split\n",
    "\n",
    "x_train, x_test, y_train, y_test = train_test_split(X,Y, test_size = 0.2, random_state = 0)\n",
    "\n",
    "print(x_test)"
   ]
  },
  {
   "cell_type": "code",
   "execution_count": 18,
   "id": "757a65d6",
   "metadata": {
    "execution": {
     "iopub.execute_input": "2023-01-04T15:48:14.433102Z",
     "iopub.status.busy": "2023-01-04T15:48:14.432667Z",
     "iopub.status.idle": "2023-01-04T15:48:14.441873Z",
     "shell.execute_reply": "2023-01-04T15:48:14.440598Z"
    },
    "papermill": {
     "duration": 0.02324,
     "end_time": "2023-01-04T15:48:14.444656",
     "exception": false,
     "start_time": "2023-01-04T15:48:14.421416",
     "status": "completed"
    },
    "tags": []
   },
   "outputs": [
    {
     "name": "stdout",
     "output_type": "stream",
     "text": [
      "[[ 0.99511432 -0.5360873  -0.48309283  0.31475822]\n",
      " [ 0.75158528  1.2089074   0.66070546  0.77976754]\n",
      " [ 0.75158528 -0.43138762 -1.13508042 -0.84341918]\n",
      " ...\n",
      " [-1.33580648  0.16191058 -0.69290198 -1.05419443]\n",
      " [-0.43127005 -1.23408518 -0.21913938 -0.33712399]\n",
      " [ 0.36889679 -0.46628751 -1.61109904 -1.72780606]]\n"
     ]
    }
   ],
   "source": [
    "#Scalling dataset\n",
    "from sklearn.preprocessing import StandardScaler\n",
    "\n",
    "sc = StandardScaler()\n",
    "x_train = sc.fit_transform(x_train)\n",
    "x_test = sc.fit_transform(x_test)\n",
    "\n",
    "print(x_train)"
   ]
  },
  {
   "cell_type": "code",
   "execution_count": 19,
   "id": "e9ce36a4",
   "metadata": {
    "execution": {
     "iopub.execute_input": "2023-01-04T15:48:14.466604Z",
     "iopub.status.busy": "2023-01-04T15:48:14.466177Z",
     "iopub.status.idle": "2023-01-04T15:48:14.481055Z",
     "shell.execute_reply": "2023-01-04T15:48:14.479685Z"
    },
    "papermill": {
     "duration": 0.02899,
     "end_time": "2023-01-04T15:48:14.483930",
     "exception": false,
     "start_time": "2023-01-04T15:48:14.454940",
     "status": "completed"
    },
    "tags": []
   },
   "outputs": [
    {
     "data": {
      "text/plain": [
       "GaussianNB()"
      ]
     },
     "execution_count": 19,
     "metadata": {},
     "output_type": "execute_result"
    }
   ],
   "source": [
    "#Model data training yang digunakan (GaussianNB)\n",
    "from sklearn.naive_bayes import GaussianNB\n",
    "\n",
    "classifier = GaussianNB()\n",
    "classifier.fit(x_train, y_train)"
   ]
  },
  {
   "cell_type": "code",
   "execution_count": 20,
   "id": "590d77c3",
   "metadata": {
    "execution": {
     "iopub.execute_input": "2023-01-04T15:48:14.506729Z",
     "iopub.status.busy": "2023-01-04T15:48:14.506306Z",
     "iopub.status.idle": "2023-01-04T15:48:14.512636Z",
     "shell.execute_reply": "2023-01-04T15:48:14.511532Z"
    },
    "papermill": {
     "duration": 0.021434,
     "end_time": "2023-01-04T15:48:14.515620",
     "exception": false,
     "start_time": "2023-01-04T15:48:14.494186",
     "status": "completed"
    },
    "tags": []
   },
   "outputs": [
    {
     "name": "stdout",
     "output_type": "stream",
     "text": [
      "[0. 0. 0. 0. 0. 0. 0. 0. 0. 0. 0. 0. 0. 0. 0. 0. 0. 0. 0. 0. 0. 0. 0. 0.\n",
      " 0. 0. 0. 0. 0. 0. 0. 0. 0. 0. 0. 0. 0. 0. 0. 0. 0. 0. 0. 0. 0. 0. 0. 0.\n",
      " 0. 0. 0. 0. 0. 0. 0. 0. 0. 0. 0. 0. 0. 0. 0. 0. 0. 0. 0. 0. 0. 0.]\n"
     ]
    }
   ],
   "source": [
    "#Menyimpulkan data array dalam bentuk fungsi untuk menentukan akurasi dataset\n",
    "y_pred = classifier.predict(x_test)\n",
    "\n",
    "print(y_pred)"
   ]
  },
  {
   "cell_type": "code",
   "execution_count": 21,
   "id": "baf1fc34",
   "metadata": {
    "execution": {
     "iopub.execute_input": "2023-01-04T15:48:14.539217Z",
     "iopub.status.busy": "2023-01-04T15:48:14.538798Z",
     "iopub.status.idle": "2023-01-04T15:48:14.545124Z",
     "shell.execute_reply": "2023-01-04T15:48:14.544036Z"
    },
    "papermill": {
     "duration": 0.020839,
     "end_time": "2023-01-04T15:48:14.547697",
     "exception": false,
     "start_time": "2023-01-04T15:48:14.526858",
     "status": "completed"
    },
    "tags": []
   },
   "outputs": [
    {
     "name": "stdout",
     "output_type": "stream",
     "text": [
      "Model accuracy score: 0.9286\n"
     ]
    }
   ],
   "source": [
    "#Mencari nilai akurasi model\n",
    "from sklearn.metrics import accuracy_score\n",
    "\n",
    "print('Model accuracy score: {0:0.4f}'. format(accuracy_score(y_test, y_pred)))"
   ]
  },
  {
   "cell_type": "code",
   "execution_count": 22,
   "id": "be5e4a97",
   "metadata": {
    "execution": {
     "iopub.execute_input": "2023-01-04T15:48:14.570497Z",
     "iopub.status.busy": "2023-01-04T15:48:14.570022Z",
     "iopub.status.idle": "2023-01-04T15:48:14.579119Z",
     "shell.execute_reply": "2023-01-04T15:48:14.577766Z"
    },
    "papermill": {
     "duration": 0.023734,
     "end_time": "2023-01-04T15:48:14.581847",
     "exception": false,
     "start_time": "2023-01-04T15:48:14.558113",
     "status": "completed"
    },
    "tags": []
   },
   "outputs": [
    {
     "data": {
      "text/plain": [
       "0.9285714285714286"
      ]
     },
     "execution_count": 22,
     "metadata": {},
     "output_type": "execute_result"
    }
   ],
   "source": [
    "#Mencari akurasi nilai dengan confussion matrix\n",
    "from sklearn.metrics import confusion_matrix,accuracy_score\n",
    "\n",
    "ac = accuracy_score(y_test, y_pred)\n",
    "\n",
    "ac"
   ]
  },
  {
   "cell_type": "code",
   "execution_count": 23,
   "id": "803df93e",
   "metadata": {
    "execution": {
     "iopub.execute_input": "2023-01-04T15:48:14.606288Z",
     "iopub.status.busy": "2023-01-04T15:48:14.605817Z",
     "iopub.status.idle": "2023-01-04T15:48:14.618819Z",
     "shell.execute_reply": "2023-01-04T15:48:14.617153Z"
    },
    "papermill": {
     "duration": 0.028118,
     "end_time": "2023-01-04T15:48:14.621294",
     "exception": false,
     "start_time": "2023-01-04T15:48:14.593176",
     "status": "completed"
    },
    "tags": []
   },
   "outputs": [
    {
     "name": "stdout",
     "output_type": "stream",
     "text": [
      "Confusion matrix\n",
      "\n",
      " [[65  0]\n",
      " [ 5  0]]\n",
      "\n",
      "True Positives(TP) =  65\n",
      "\n",
      "True Negatives(TN) =  0\n",
      "\n",
      "False Positives(FP) =  0\n",
      "\n",
      "False Negatives(FN) =  5\n"
     ]
    }
   ],
   "source": [
    "#Confusion matrix\n",
    "from sklearn.metrics import confusion_matrix\n",
    "\n",
    "cm = confusion_matrix(y_test, y_pred)\n",
    "\n",
    "print('Confusion matrix\\n\\n', cm)\n",
    "\n",
    "print('\\nTrue Positives(TP) = ', cm[0,0])\n",
    "\n",
    "print('\\nTrue Negatives(TN) = ', cm[1,1])\n",
    "\n",
    "print('\\nFalse Positives(FP) = ', cm[0,1])\n",
    "\n",
    "print('\\nFalse Negatives(FN) = ', cm[1,0])"
   ]
  },
  {
   "cell_type": "code",
   "execution_count": 24,
   "id": "ce6eacdd",
   "metadata": {
    "execution": {
     "iopub.execute_input": "2023-01-04T15:48:14.643594Z",
     "iopub.status.busy": "2023-01-04T15:48:14.643184Z",
     "iopub.status.idle": "2023-01-04T15:48:14.953367Z",
     "shell.execute_reply": "2023-01-04T15:48:14.951913Z"
    },
    "papermill": {
     "duration": 0.324702,
     "end_time": "2023-01-04T15:48:14.956149",
     "exception": false,
     "start_time": "2023-01-04T15:48:14.631447",
     "status": "completed"
    },
    "tags": []
   },
   "outputs": [
    {
     "data": {
      "text/plain": [
       "<AxesSubplot:>"
      ]
     },
     "execution_count": 24,
     "metadata": {},
     "output_type": "execute_result"
    },
    {
     "data": {
      "image/png": "[encoded data removed]",
      "text/plain": [
       "<Figure size 432x288 with 2 Axes>"
      ]
     },
     "metadata": {
      "needs_background": "light"
     },
     "output_type": "display_data"
    }
   ],
   "source": [
    "#Classification matrix\n",
    "cm_matrix = pd.DataFrame(data=cm, columns=['Actual Positive:1', 'Actual Negative:0'], \n",
    "                                 index=['Predict Positive:1', 'Predict Negative:0'])\n",
    "\n",
    "sns.heatmap(cm_matrix, annot=True, fmt='d', cmap='YlGnBu')"
   ]
  },
  {
   "cell_type": "code",
   "execution_count": 25,
   "id": "ce4dec20",
   "metadata": {
    "execution": {
     "iopub.execute_input": "2023-01-04T15:48:14.978973Z",
     "iopub.status.busy": "2023-01-04T15:48:14.978422Z",
     "iopub.status.idle": "2023-01-04T15:48:14.985555Z",
     "shell.execute_reply": "2023-01-04T15:48:14.983977Z"
    },
    "papermill": {
     "duration": 0.021714,
     "end_time": "2023-01-04T15:48:14.988354",
     "exception": false,
     "start_time": "2023-01-04T15:48:14.966640",
     "status": "completed"
    },
    "tags": []
   },
   "outputs": [],
   "source": [
    "TP = cm[0,0]\n",
    "TN = cm[1,1]\n",
    "FP = cm[0,1]\n",
    "FN = cm[1,0]"
   ]
  },
  {
   "cell_type": "code",
   "execution_count": 26,
   "id": "6c7ae010",
   "metadata": {
    "execution": {
     "iopub.execute_input": "2023-01-04T15:48:15.010841Z",
     "iopub.status.busy": "2023-01-04T15:48:15.010421Z",
     "iopub.status.idle": "2023-01-04T15:48:15.017083Z",
     "shell.execute_reply": "2023-01-04T15:48:15.015732Z"
    },
    "papermill": {
     "duration": 0.020911,
     "end_time": "2023-01-04T15:48:15.019515",
     "exception": false,
     "start_time": "2023-01-04T15:48:14.998604",
     "status": "completed"
    },
    "tags": []
   },
   "outputs": [
    {
     "name": "stdout",
     "output_type": "stream",
     "text": [
      "Classification accuracy : 0.9286\n"
     ]
    }
   ],
   "source": [
    "# Clasifikasi akurasi\n",
    "\n",
    "classification_accuracy = (TP + TN) / float(TP + TN + FP + FN)\n",
    "\n",
    "print('Classification accuracy : {0:0.4f}'.format(classification_accuracy))"
   ]
  },
  {
   "cell_type": "code",
   "execution_count": 27,
   "id": "a04d2323",
   "metadata": {
    "execution": {
     "iopub.execute_input": "2023-01-04T15:48:15.042212Z",
     "iopub.status.busy": "2023-01-04T15:48:15.041796Z",
     "iopub.status.idle": "2023-01-04T15:48:15.048907Z",
     "shell.execute_reply": "2023-01-04T15:48:15.047170Z"
    },
    "papermill": {
     "duration": 0.021356,
     "end_time": "2023-01-04T15:48:15.051325",
     "exception": false,
     "start_time": "2023-01-04T15:48:15.029969",
     "status": "completed"
    },
    "tags": []
   },
   "outputs": [
    {
     "name": "stdout",
     "output_type": "stream",
     "text": [
      "Classification error : 0.0714\n"
     ]
    }
   ],
   "source": [
    "# Clasifikasi error\n",
    "\n",
    "classification_error = (FP + FN) / float(TP + TN + FP + FN)\n",
    "\n",
    "print('Classification error : {0:0.4f}'.format(classification_error))"
   ]
  },
  {
   "cell_type": "code",
   "execution_count": 28,
   "id": "4fcb4857",
   "metadata": {
    "execution": {
     "iopub.execute_input": "2023-01-04T15:48:15.075363Z",
     "iopub.status.busy": "2023-01-04T15:48:15.073980Z",
     "iopub.status.idle": "2023-01-04T15:48:15.081577Z",
     "shell.execute_reply": "2023-01-04T15:48:15.079957Z"
    },
    "papermill": {
     "duration": 0.021813,
     "end_time": "2023-01-04T15:48:15.083845",
     "exception": false,
     "start_time": "2023-01-04T15:48:15.062032",
     "status": "completed"
    },
    "tags": []
   },
   "outputs": [
    {
     "name": "stdout",
     "output_type": "stream",
     "text": [
      "Precision : 1.0000\n"
     ]
    }
   ],
   "source": [
    "# Mencari nilai Presisi\n",
    "precision = TP / float(TP + FP)\n",
    "\n",
    "\n",
    "print('Precision : {0:0.4f}'.format(precision))"
   ]
  },
  {
   "cell_type": "code",
   "execution_count": 29,
   "id": "4805a165",
   "metadata": {
    "execution": {
     "iopub.execute_input": "2023-01-04T15:48:15.107894Z",
     "iopub.status.busy": "2023-01-04T15:48:15.107162Z",
     "iopub.status.idle": "2023-01-04T15:48:15.113752Z",
     "shell.execute_reply": "2023-01-04T15:48:15.111704Z"
    },
    "papermill": {
     "duration": 0.022199,
     "end_time": "2023-01-04T15:48:15.116838",
     "exception": false,
     "start_time": "2023-01-04T15:48:15.094639",
     "status": "completed"
    },
    "tags": []
   },
   "outputs": [
    {
     "name": "stdout",
     "output_type": "stream",
     "text": [
      "Recall or Sensitivity : 0.9286\n"
     ]
    }
   ],
   "source": [
    "#Mencari nilai sensitifitas\n",
    "recall = TP / float(TP + FN)\n",
    "\n",
    "print('Recall or Sensitivity : {0:0.4f}'.format(recall))"
   ]
  },
  {
   "cell_type": "code",
   "execution_count": 30,
   "id": "ab54d40f",
   "metadata": {
    "execution": {
     "iopub.execute_input": "2023-01-04T15:48:15.140925Z",
     "iopub.status.busy": "2023-01-04T15:48:15.139459Z",
     "iopub.status.idle": "2023-01-04T15:48:15.147389Z",
     "shell.execute_reply": "2023-01-04T15:48:15.145716Z"
    },
    "papermill": {
     "duration": 0.022418,
     "end_time": "2023-01-04T15:48:15.149964",
     "exception": false,
     "start_time": "2023-01-04T15:48:15.127546",
     "status": "completed"
    },
    "tags": []
   },
   "outputs": [
    {
     "name": "stdout",
     "output_type": "stream",
     "text": [
      "True Positive Rate : 0.9286\n"
     ]
    }
   ],
   "source": [
    "#Mencari rate dari True Positif\n",
    "true_positive_rate = TP / float(TP + FN)\n",
    "\n",
    "\n",
    "print('True Positive Rate : {0:0.4f}'.format(true_positive_rate))"
   ]
  },
  {
   "cell_type": "code",
   "execution_count": 31,
   "id": "e4ffeb2b",
   "metadata": {
    "execution": {
     "iopub.execute_input": "2023-01-04T15:48:15.173553Z",
     "iopub.status.busy": "2023-01-04T15:48:15.172832Z",
     "iopub.status.idle": "2023-01-04T15:48:15.179278Z",
     "shell.execute_reply": "2023-01-04T15:48:15.178352Z"
    },
    "papermill": {
     "duration": 0.021125,
     "end_time": "2023-01-04T15:48:15.181483",
     "exception": false,
     "start_time": "2023-01-04T15:48:15.160358",
     "status": "completed"
    },
    "tags": []
   },
   "outputs": [
    {
     "name": "stdout",
     "output_type": "stream",
     "text": [
      "False Positive Rate : nan\n"
     ]
    }
   ],
   "source": [
    "#Mencari rate dari False Positif\n",
    "false_positive_rate = FP / float(FP + TN)\n",
    "\n",
    "\n",
    "print('False Positive Rate : {0:0.4f}'.format(false_positive_rate))"
   ]
  },
  {
   "cell_type": "code",
   "execution_count": 32,
   "id": "019ec425",
   "metadata": {
    "execution": {
     "iopub.execute_input": "2023-01-04T15:48:15.205633Z",
     "iopub.status.busy": "2023-01-04T15:48:15.204755Z",
     "iopub.status.idle": "2023-01-04T15:48:15.211182Z",
     "shell.execute_reply": "2023-01-04T15:48:15.209836Z"
    },
    "papermill": {
     "duration": 0.021228,
     "end_time": "2023-01-04T15:48:15.213534",
     "exception": false,
     "start_time": "2023-01-04T15:48:15.192306",
     "status": "completed"
    },
    "tags": []
   },
   "outputs": [
    {
     "name": "stdout",
     "output_type": "stream",
     "text": [
      "Specificity : nan\n"
     ]
    }
   ],
   "source": [
    "#Nilai Khusus\n",
    "specificity = TN / (TN + FP)\n",
    "\n",
    "print('Specificity : {0:0.4f}'.format(specificity))"
   ]
  }
 ],
 "metadata": {
  "kernelspec": {
   "display_name": "Python 3",
   "language": "python",
   "name": "python3"
  },
  "language_info": {
   "codemirror_mode": {
    "name": "ipython",
    "version": 3
   },
   "file_extension": ".py",
   "mimetype": "text/x-python",
   "name": "python",
   "nbconvert_exporter": "python",
   "pygments_lexer": "ipython3",
   "version": "3.7.12"
  },
  "papermill": {
   "default_parameters": {},
   "duration": 15.487676,
   "end_time": "2023-01-04T15:48:16.047744",
   "environment_variables": {},
   "exception": null,
   "input_path": "__notebook__.ipynb",
   "output_path": "__notebook__.ipynb",
   "parameters": {},
   "start_time": "2023-01-04T15:48:00.560068",
   "version": "2.3.4"
  }
 },
 "nbformat": 4,
 "nbformat_minor": 5
}
